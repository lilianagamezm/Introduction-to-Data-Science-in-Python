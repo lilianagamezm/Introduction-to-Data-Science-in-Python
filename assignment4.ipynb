{
 "cells": [
  {
   "cell_type": "markdown",
   "metadata": {
    "deletable": false,
    "editable": false,
    "nbgrader": {
     "checksum": "48770f8b5f5d3062d3badd51fcafc401",
     "grade": false,
     "grade_id": "cell-a6c4f74309fc2379",
     "locked": true,
     "schema_version": 1,
     "solution": false
    }
   },
   "source": [
    "# Assignment 4\n",
    "## Description\n",
    "In this assignment you must read in a file of metropolitan regions and associated sports teams from [assets/wikipedia_data.html](assets/wikipedia_data.html) and answer some questions about each metropolitan region. Each of these regions may have one or more teams from the \"Big 4\": NFL (football, in [assets/nfl.csv](assets/nfl.csv)), MLB (baseball, in [assets/mlb.csv](assets/mlb.csv)), NBA (basketball, in [assets/nba.csv](assets/nba.csv) or NHL (hockey, in [assets/nhl.csv](assets/nhl.csv)). Please keep in mind that all questions are from the perspective of the metropolitan region, and that this file is the \"source of authority\" for the location of a given sports team. Thus teams which are commonly known by a different area (e.g. \"Oakland Raiders\") need to be mapped into the metropolitan region given (e.g. San Francisco Bay Area). This will require some human data understanding outside of the data you've been given (e.g. you will have to hand-code some names, and might need to google to find out where teams are)!\n",
    "\n",
    "For each sport I would like you to answer the question: **what is the win/loss ratio's correlation with the population of the city it is in?** Win/Loss ratio refers to the number of wins over the number of wins plus the number of losses. Remember that to calculate the correlation with [`pearsonr`](https://docs.scipy.org/doc/scipy/reference/generated/scipy.stats.pearsonr.html), so you are going to send in two ordered lists of values, the populations from the wikipedia_data.html file and the win/loss ratio for a given sport in the same order. Average the win/loss ratios for those cities which have multiple teams of a single sport. Each sport is worth an equal amount in this assignment (20%\\*4=80%) of the grade for this assignment. You should only use data **from year 2018** for your analysis -- this is important!\n",
    "\n",
    "## Notes\n",
    "\n",
    "1. Do not include data about the MLS or CFL in any of the work you are doing, we're only interested in the Big 4 in this assignment.\n",
    "2. I highly suggest that you first tackle the four correlation questions in order, as they are all similar and worth the majority of grades for this assignment. This is by design!\n",
    "3. It's fair game to talk with peers about high level strategy as well as the relationship between metropolitan areas and sports teams. However, do not post code solving aspects of the assignment (including such as dictionaries mapping areas to teams, or regexes which will clean up names).\n",
    "4. There may be more teams than the assert statements test, remember to collapse multiple teams in one city into a single value!"
   ]
  },
  {
   "cell_type": "markdown",
   "metadata": {
    "deletable": false,
    "editable": false,
    "nbgrader": {
     "checksum": "369ff9ecf0ee04640574205cbc697f94",
     "grade": false,
     "grade_id": "cell-712b2b5da63d4505",
     "locked": true,
     "schema_version": 1,
     "solution": false
    }
   },
   "source": [
    "## Question 1\n",
    "For this question, calculate the win/loss ratio's correlation with the population of the city it is in for the **NHL** using **2018** data."
   ]
  },
  {
   "cell_type": "code",
   "execution_count": 87,
   "metadata": {
    "deletable": false,
    "nbgrader": {
     "checksum": "1cac4803b02502929f5b1612d48db2b5",
     "grade": false,
     "grade_id": "cell-69b16e4386e58030",
     "locked": false,
     "schema_version": 1,
     "solution": true
    }
   },
   "outputs": [],
   "source": [
    "import pandas as pd\n",
    "import numpy as np\n",
    "import scipy.stats as stats\n",
    "import re\n",
    "\n",
    "nhl_df=pd.read_csv(\"assets/nhl.csv\")\n",
    "cities=pd.read_html(\"assets/wikipedia_data.html\")[1]\n",
    "cities=cities.iloc[:-1,[0,3,5,6,7,8]]\n",
    "cities['NHL']=cities['NHL'].replace({r'\\[.*\\]':'','—':''},regex=True)\n",
    "cities=cities.rename(columns={'Population (2016 est.)[8]':'population_by_region'})\n",
    "nhl_df['team']=nhl_df['team'].str.replace('*','',regex=True)\n",
    "nhl_df=nhl_df[nhl_df['year']==2018]\n",
    "def nhl_correlation(): \n",
    "\n",
    "    NHL_MetroArea=cities.drop(['NFL','MLB','NBA'],axis=1)\n",
    "    NHL_MetroArea=NHL_MetroArea[NHL_MetroArea['NHL']!='']\n",
    "    NHL_MetroArea['NHL']=NHL_MetroArea['NHL'].str.split(r'([A-Z][^A-Z]*\\S)([A-Z][^A-Z]*)')\n",
    "    NHL_MetroArea=NHL_MetroArea.explode('NHL')\n",
    "    NHL_MetroArea=NHL_MetroArea[NHL_MetroArea['NHL']!='']\n",
    "    NHL_MetroArea=NHL_MetroArea.rename(columns={'NHL':'team'})\n",
    "    \n",
    "    \n",
    "    w=nhl_df['W'].str.findall('[0-9]{2}')\n",
    "    w=w.str[0]\n",
    "    w=pd.to_numeric(w)\n",
    "    l=nhl_df['L'].str.findall('[0-9]{2}')\n",
    "    l=l.str[0]\n",
    "    l=pd.to_numeric(l)\n",
    "    nhl_df['win_loss_by_region']=w/(w+l)\n",
    "    nhl_team=nhl_df.drop(['GP','W','L','OL','PTS','PTS%','GF','GA','SRS','SOS','RPt%','ROW','year','League'],axis=1)\n",
    "    nhl_team=nhl_team.dropna(axis=0)\n",
    "    nhl_teamMean=nhl_team.groupby('team').mean()\n",
    "    nhl_teamMean=nhl_teamMean.reset_index()\n",
    "    NHL_MetroArea['join']=1\n",
    "    nhl_teamMean['join']=1\n",
    "    DataFrameFull=NHL_MetroArea.merge(nhl_teamMean,on='join').drop('join',axis=1)\n",
    "    DataFrameFull['match']=DataFrameFull.apply(lambda x:x.team_y.find(x.team_x),axis=1).ge(0)\n",
    "    NHL_df=DataFrameFull[DataFrameFull['match']]\n",
    "    \n",
    "    NHL_df=pd.DataFrame(NHL_df.groupby(['Metropolitan area','population_by_region'])['win_loss_by_region'].mean())\n",
    "\n",
    "    NHL_df=NHL_df.reset_index()\n",
    "    NHL_df['population_by_region']=pd.to_numeric(NHL_df['population_by_region'])\n",
    "    \n",
    "    population_by_region = NHL_df['population_by_region'].iloc[:] # pass in metropolitan area population from cities\n",
    "    win_loss_by_region = NHL_df['win_loss_by_region'].iloc[:] # pass in win/loss ratio from nhl_df in the same order as cities[\"Metropolitan area\"]\n",
    "    pearson_coef,p_value=stats.pearsonr(population_by_region, win_loss_by_region)\n",
    "    \n",
    "    assert len(population_by_region) == len(win_loss_by_region), \"Q1: Your lists must be the same length\"\n",
    "    assert len(population_by_region) == 28, \"Q1: There should be 28 teams being analysed for NHL\"\n",
    "    \n",
    "\n",
    "    return pearson_coef"
   ]
  },
  {
   "cell_type": "code",
   "execution_count": null,
   "metadata": {
    "deletable": false,
    "editable": false,
    "nbgrader": {
     "checksum": "52a581df513c71153e105b93764cda4b",
     "grade": true,
     "grade_id": "cell-ebe0b2dfe1067e63",
     "locked": true,
     "points": 20,
     "schema_version": 1,
     "solution": false
    }
   },
   "outputs": [],
   "source": []
  },
  {
   "cell_type": "code",
   "execution_count": 88,
   "metadata": {},
   "outputs": [
    {
     "data": {
      "text/plain": [
       "0.012486162921209907"
      ]
     },
     "execution_count": 88,
     "metadata": {},
     "output_type": "execute_result"
    }
   ],
   "source": [
    "nhl_correlation()"
   ]
  },
  {
   "cell_type": "markdown",
   "metadata": {
    "deletable": false,
    "editable": false,
    "nbgrader": {
     "checksum": "988912cae4968d81473f46d783e79c16",
     "grade": false,
     "grade_id": "cell-cb964e690298b71d",
     "locked": true,
     "schema_version": 1,
     "solution": false
    }
   },
   "source": [
    "## Question 2\n",
    "For this question, calculate the win/loss ratio's correlation with the population of the city it is in for the **NBA** using **2018** data."
   ]
  },
  {
   "cell_type": "code",
   "execution_count": 1,
   "metadata": {
    "deletable": false,
    "nbgrader": {
     "checksum": "9394222aafc8ccab0a228098ba0d6010",
     "grade": false,
     "grade_id": "cell-5a5f21279e3d3572",
     "locked": false,
     "schema_version": 1,
     "solution": true
    }
   },
   "outputs": [],
   "source": [
    "import pandas as pd\n",
    "import numpy as np\n",
    "import scipy.stats as stats\n",
    "import re\n",
    "\n",
    "nba_df=pd.read_csv(\"assets/nba.csv\")\n",
    "cities=pd.read_html(\"assets/wikipedia_data.html\")[1]\n",
    "cities=cities.iloc[:-1,[0,3,5,6,7,8]]\n",
    "cities['NBA']=cities['NBA'].replace({r'\\[.*\\]':'','—':''},regex=True)\n",
    "cities=cities.rename(columns={'Population (2016 est.)[8]':'population_by_region'})\n",
    "nba_df['team']=nba_df['team'].str.findall(r'\\w*\\s\\w*\\s\\w*|\\w*\\s\\w*')\n",
    "nba_df=nba_df[nba_df['year']==2018]\n",
    "W=nba_df['W'].str.findall('[0-9]{1,2}')\n",
    "W=W.str[0]\n",
    "W=pd.to_numeric(W)\n",
    "L=nba_df['L'].str.findall('[0-9]{1,2}')\n",
    "L=L.str[0]\n",
    "L=pd.to_numeric(L)\n",
    "nba_df['win_loss_by_region']=W/(W+L)\n",
    "nba_df=nba_df.drop(['W','L','W/L%','GB','PS/G','PA/G','SRS','year','League'],axis=1)\n",
    "nba_df=nba_df.dropna(axis=0)\n",
    "nba_df['team']=nba_df['team'].str[0]\n",
    "nba_df['team']=nba_df['team'].str.replace('\\xa0','',regex=True)\n",
    "\n",
    "def nba_correlation():\n",
    "    \n",
    "    NBA_MetroArea=cities.drop(['NFL','MLB','NHL'],axis=1)\n",
    "    NBA_MetroArea=NBA_MetroArea[NBA_MetroArea['NBA']!='']\n",
    "    NBA_MetroArea['NBA']=NBA_MetroArea['NBA'].str.split(r'([A-Z][^A-Z]*\\S)([A-Z][^A-Z]*)')\n",
    "    NBA_MetroArea=NBA_MetroArea.explode('NBA')\n",
    "    NBA_MetroArea=NBA_MetroArea[NBA_MetroArea['NBA']!='']\n",
    "    NBA_MetroArea=NBA_MetroArea.rename(columns={'NBA':'team'})\n",
    "    \n",
    "    nbaMean=nba_df.groupby('team').mean()\n",
    "    nbaMean=nbaMean.reset_index()\n",
    "    \n",
    "    NBA_MetroArea['join']=1\n",
    "    nbaMean['join']=1\n",
    "    \n",
    "    DataFrameFull=NBA_MetroArea.merge(nbaMean,on='join').drop('join',axis=1)\n",
    "    DataFrameFull['match']=DataFrameFull.apply(lambda x:x.team_y.find(x.team_x),axis=1).ge(0)\n",
    "    NBA_df=DataFrameFull[DataFrameFull['match']]\n",
    "    NBA_df=pd.DataFrame(NBA_df.groupby(['Metropolitan area','population_by_region'])['win_loss_by_region'].mean())\n",
    "    NBA_df=NBA_df.reset_index()\n",
    "    NBA_df['population_by_region']=pd.to_numeric(NBA_df['population_by_region'])\n",
    "\n",
    "    NBA_df=NBA_df.reset_index(drop=True)\n",
    "    \n",
    "   \n",
    "    population_by_region = NBA_df['population_by_region'].iloc[:] # pass in metropolitan area population from cities\n",
    "    win_loss_by_region =  NBA_df['win_loss_by_region'].iloc[:] # pass in win/loss ratio from nba_df in the same order as cities[\"Metropolitan area\"]\n",
    "    pearson_coef,p_value=stats.pearsonr(population_by_region, win_loss_by_region)\n",
    "    \n",
    "    assert len(population_by_region) == len(win_loss_by_region), \"Q2: Your lists must be the same length\"\n",
    "    assert len(population_by_region) == 28, \"Q2: There should be 28 teams being analysed for NBA\"\n",
    "\n",
    "    return pearson_coef"
   ]
  },
  {
   "cell_type": "code",
   "execution_count": null,
   "metadata": {
    "deletable": false,
    "editable": false,
    "nbgrader": {
     "checksum": "bbdeb8eb22f525a34c10dc8798324e42",
     "grade": true,
     "grade_id": "cell-e573b2b4a282b470",
     "locked": true,
     "points": 20,
     "schema_version": 1,
     "solution": false
    }
   },
   "outputs": [],
   "source": []
  },
  {
   "cell_type": "code",
   "execution_count": 2,
   "metadata": {},
   "outputs": [
    {
     "data": {
      "text/plain": [
       "-0.17657160252844617"
      ]
     },
     "execution_count": 2,
     "metadata": {},
     "output_type": "execute_result"
    }
   ],
   "source": [
    "nba_correlation()"
   ]
  },
  {
   "cell_type": "markdown",
   "metadata": {
    "deletable": false,
    "editable": false,
    "nbgrader": {
     "checksum": "1a1a5809f675ca033086422007cd73bd",
     "grade": false,
     "grade_id": "cell-96e15e4335df78f4",
     "locked": true,
     "schema_version": 1,
     "solution": false
    }
   },
   "source": [
    "## Question 3\n",
    "For this question, calculate the win/loss ratio's correlation with the population of the city it is in for the **MLB** using **2018** data."
   ]
  },
  {
   "cell_type": "code",
   "execution_count": 102,
   "metadata": {
    "deletable": false,
    "nbgrader": {
     "checksum": "27e8c0da6c9fa0dffc10488314335b6c",
     "grade": false,
     "grade_id": "cell-33b00fc3f3467b0c",
     "locked": false,
     "schema_version": 1,
     "solution": true
    }
   },
   "outputs": [],
   "source": [
    "import pandas as pd\n",
    "import numpy as np\n",
    "import scipy.stats as stats\n",
    "import re\n",
    "\n",
    "mlb_df=pd.read_csv(\"assets/mlb.csv\")\n",
    "cities=pd.read_html(\"assets/wikipedia_data.html\")[1]\n",
    "cities=cities.iloc[:-1,[0,3,5,6,7,8]]\n",
    "cities['MLB']=cities['MLB'].replace({r'\\[.*\\]':'','—':''},regex=True)\n",
    "cities=cities.rename(columns={'Population (2016 est.)[8]':'population_by_region'})\n",
    "mlb_df=mlb_df[mlb_df['year']==2018]\n",
    "mlb_df['W']=pd.to_numeric(mlb_df['W'])\n",
    "mlb_df['L']=pd.to_numeric(mlb_df['L'])\n",
    "mlb_df['win_loss_by_region']=mlb_df['W']/(mlb_df['W']+mlb_df['L'])\n",
    "mlb_df=mlb_df.drop(['W','L','W-L%','GB','year','League'],axis=1)\n",
    "def mlb_correlation(): \n",
    "    \n",
    "    MLB_MetroArea=cities.drop(['NFL','NBA','NHL'],axis=1)\n",
    "    MLB_MetroArea=MLB_MetroArea[MLB_MetroArea['MLB']!='']\n",
    "    MLB_MetroArea['MLB']=MLB_MetroArea['MLB'].str.findall(r'[A-Z][a-z]*\\s[A-Z][a-z]*|[A-Z][a-z]*')\n",
    "    MLB_MetroArea=MLB_MetroArea.explode('MLB')\n",
    "    MLB_MetroArea=MLB_MetroArea.rename(columns={'MLB':'team'})\n",
    "    \n",
    "    mlbMean=mlb_df.groupby('team').mean()\n",
    "    mlbMean=mlbMean.reset_index()\n",
    "    MLB_MetroArea['join']=1\n",
    "    mlbMean['join']=1\n",
    "    DataFrameFull=MLB_MetroArea.merge(mlbMean,on='join').drop('join',axis=1)\n",
    "    DataFrameFull['match']=DataFrameFull.apply(lambda x:x.team_y.find(x.team_x),axis=1).ge(0)\n",
    "    MLB_df=DataFrameFull[DataFrameFull['match']]\n",
    "    MLB_df=pd.DataFrame(MLB_df.groupby(['Metropolitan area','population_by_region'])['win_loss_by_region'].mean())\n",
    "    MLB_df=MLB_df.reset_index()\n",
    "    MLB_df['population_by_region']=pd.to_numeric(MLB_df['population_by_region'])\n",
    "    MLB_df=MLB_df.sort_values('population_by_region')\n",
    "    MLB_df=MLB_df.reset_index(drop=True)\n",
    "    \n",
    "    \n",
    "    population_by_region = MLB_df['population_by_region'] # pass in metropolitan area population from cities\n",
    "    win_loss_by_region = MLB_df['win_loss_by_region'] # pass in win/loss ratio from mlb_df in the same order as cities[\"Metropolitan area\"]\n",
    "    pearson_coef,p_value=stats.pearsonr(population_by_region, win_loss_by_region)\n",
    "    \n",
    "    assert len(population_by_region) == len(win_loss_by_region), \"Q3: Your lists must be the same length\"\n",
    "    assert len(population_by_region) == 26, \"Q3: There should be 26 teams being analysed for MLB\"\n",
    "\n",
    "    return pearson_coef"
   ]
  },
  {
   "cell_type": "code",
   "execution_count": null,
   "metadata": {
    "deletable": false,
    "editable": false,
    "nbgrader": {
     "checksum": "cda33b094ba19ccc37a481e0dd29e0bc",
     "grade": true,
     "grade_id": "cell-764d4476f425c5a2",
     "locked": true,
     "points": 20,
     "schema_version": 1,
     "solution": false
    }
   },
   "outputs": [],
   "source": []
  },
  {
   "cell_type": "code",
   "execution_count": 103,
   "metadata": {},
   "outputs": [
    {
     "data": {
      "text/plain": [
       "0.1502769830266931"
      ]
     },
     "execution_count": 103,
     "metadata": {},
     "output_type": "execute_result"
    }
   ],
   "source": [
    "mlb_correlation()"
   ]
  },
  {
   "cell_type": "markdown",
   "metadata": {
    "deletable": false,
    "editable": false,
    "nbgrader": {
     "checksum": "6977a6da9ed6d8b7a0b7e37bbeda709b",
     "grade": false,
     "grade_id": "cell-793df6c04dfb126e",
     "locked": true,
     "schema_version": 1,
     "solution": false
    }
   },
   "source": [
    "## Question 4\n",
    "For this question, calculate the win/loss ratio's correlation with the population of the city it is in for the **NFL** using **2018** data."
   ]
  },
  {
   "cell_type": "code",
   "execution_count": 104,
   "metadata": {
    "deletable": false,
    "nbgrader": {
     "checksum": "c4914ad1e119278ec2bd567c52640b66",
     "grade": false,
     "grade_id": "cell-8ccebc209aeec8d9",
     "locked": false,
     "schema_version": 1,
     "solution": true
    }
   },
   "outputs": [],
   "source": [
    "import pandas as pd\n",
    "import numpy as np\n",
    "import scipy.stats as stats\n",
    "import re\n",
    "\n",
    "nfl_df=pd.read_csv(\"assets/nfl.csv\")\n",
    "cities=pd.read_html(\"assets/wikipedia_data.html\")[1]\n",
    "cities=cities.iloc[:-1,[0,3,5,6,7,8]]\n",
    "cities['NFL']=cities['NFL'].replace({r'\\[.*\\]':'','—':''},regex=True)\n",
    "cities=cities.rename(columns={'Population (2016 est.)[8]':'population_by_region'})\n",
    "nfl_df=nfl_df[nfl_df['year']==2018]\n",
    "cols=nfl_df.columns.tolist()\n",
    "cols=cols[-2:-1]+cols[-4:-3]+cols[-14:-13]\n",
    "nfl_df=nfl_df[cols]\n",
    "nfl_df['team']=nfl_df['team'].str.findall(r'[A-Z][^A-Z]+\\s[A-Z][a-z]*\\s[A-Z][a-z]*|[A-Z][^A-Z]+\\s[A-Z][a-z]*')\n",
    "nfl_df['team']=nfl_df['team'].str[0]\n",
    "nfl_df=nfl_df.dropna()\n",
    "W=pd.to_numeric(nfl_df['W'])\n",
    "L=pd.to_numeric(nfl_df['L'])\n",
    "win_loss_by_region=W/(W+L)\n",
    "nfl_df.loc[:,'win_loss_by_region']=win_loss_by_region\n",
    "def nfl_correlation(): \n",
    "    \n",
    "    NFL_MetroArea=cities.drop(['MLB','NBA','NHL'],axis=1)\n",
    "    NFL_MetroArea=NFL_MetroArea[NFL_MetroArea['NFL']!='']\n",
    "    NFL_MetroArea=NFL_MetroArea[NFL_MetroArea['NFL']!=' ']\n",
    "    NFL_MetroArea['NFL']=NFL_MetroArea['NFL'].str.findall(r'\\d*[a-z]*|[A-Z][a-z]*')\n",
    "    NFL_MetroArea=NFL_MetroArea.explode('NFL')\n",
    "    NFL_MetroArea=NFL_MetroArea[NFL_MetroArea['NFL']!='']\n",
    "    NFL_MetroArea=NFL_MetroArea.rename(columns={'NFL':'team'})\n",
    "    \n",
    "    nflMean=nfl_df.groupby('team').mean()\n",
    "    nflMean=nflMean.reset_index()\n",
    "    NFL_MetroArea['join']=1\n",
    "    nflMean['join']=1\n",
    "    DataFrameFull=NFL_MetroArea.merge(nflMean,on='join').drop('join',axis=1)\n",
    "    DataFrameFull['match']=DataFrameFull.apply(lambda x:x.team_y.find(x.team_x),axis=1).ge(0)\n",
    "    NFL_df=DataFrameFull[DataFrameFull['match']]\n",
    "    NFL_df=pd.DataFrame(NFL_df.groupby(['Metropolitan area','population_by_region'])['win_loss_by_region'].mean())\n",
    "    NFL_df=NFL_df.reset_index()\n",
    "    NFL_df['population_by_region']=pd.to_numeric(NFL_df['population_by_region'])\n",
    "    NFL_df=NFL_df.sort_values('population_by_region')\n",
    "      \n",
    "    population_by_region = NFL_df['population_by_region'] # pass in metropolitan area population from cities\n",
    "    win_loss_by_region = NFL_df['win_loss_by_region'] # pass in win/loss ratio from nfl_df in the same order as cities[\"Metropolitan area\"]\n",
    "    pearson_coef,p_value=stats.pearsonr(population_by_region, win_loss_by_region)\n",
    "    \n",
    "    assert len(population_by_region) == len(win_loss_by_region), \"Q4: Your lists must be the same length\"\n",
    "    assert len(population_by_region) == 29, \"Q4: There should be 29 teams being analysed for NFL\"\n",
    "\n",
    "    return pearson_coef"
   ]
  },
  {
   "cell_type": "code",
   "execution_count": null,
   "metadata": {
    "deletable": false,
    "editable": false,
    "nbgrader": {
     "checksum": "e9415d6399aa49e3a1a60813afdefa3b",
     "grade": true,
     "grade_id": "cell-de7b148b9554dbda",
     "locked": true,
     "points": 20,
     "schema_version": 1,
     "solution": false
    }
   },
   "outputs": [],
   "source": []
  },
  {
   "cell_type": "code",
   "execution_count": 105,
   "metadata": {},
   "outputs": [
    {
     "data": {
      "text/plain": [
       "0.004922112149349437"
      ]
     },
     "execution_count": 105,
     "metadata": {},
     "output_type": "execute_result"
    }
   ],
   "source": [
    "nfl_correlation()"
   ]
  },
  {
   "cell_type": "markdown",
   "metadata": {
    "deletable": false,
    "editable": false,
    "nbgrader": {
     "checksum": "b02d5cd3273f561e4ae939bb2a41740c",
     "grade": false,
     "grade_id": "cell-97b49d8639e908c4",
     "locked": true,
     "schema_version": 1,
     "solution": false
    }
   },
   "source": [
    "## Question 5\n",
    "In this question I would like you to explore the hypothesis that **given that an area has two sports teams in different sports, those teams will perform the same within their respective sports**. How I would like to see this explored is with a series of paired t-tests (so use [`ttest_rel`](https://docs.scipy.org/doc/scipy/reference/generated/scipy.stats.ttest_rel.html)) between all pairs of sports. Are there any sports where we can reject the null hypothesis? Again, average values where a sport has multiple teams in one region. Remember, you will only be including, for each sport, cities which have teams engaged in that sport, drop others as appropriate. This question is worth 20% of the grade for this assignment."
   ]
  },
  {
   "cell_type": "code",
   "execution_count": 9,
   "metadata": {
    "deletable": false,
    "nbgrader": {
     "checksum": "6d78c961eb66f8d8c81f06d33ae8f393",
     "grade": false,
     "grade_id": "cell-92f25f44b8d1179f",
     "locked": false,
     "schema_version": 1,
     "solution": true
    }
   },
   "outputs": [],
   "source": [
    "import pandas as pd\n",
    "import numpy as np\n",
    "import scipy.stats as stats\n",
    "import re\n",
    "from functools import reduce\n",
    "from scipy.stats import ttest_rel\n",
    "\n",
    "mlb_df=pd.read_csv(\"assets/mlb.csv\")\n",
    "nhl_df=pd.read_csv(\"assets/nhl.csv\")\n",
    "nba_df=pd.read_csv(\"assets/nba.csv\")\n",
    "nfl_df=pd.read_csv(\"assets/nfl.csv\")\n",
    "cities=pd.read_html(\"assets/wikipedia_data.html\")[1]\n",
    "cities=cities.iloc[:-1,[0,3,5,6,7,8]]\n",
    "    \n",
    "cities['MLB']=cities['MLB'].replace({r'\\[.*\\]':'','—':''},regex=True)\n",
    "cities=cities.rename(columns={'Population (2016 est.)[8]':'population_by_region'})\n",
    "mlb_df=mlb_df[mlb_df['year']==2018]\n",
    "MLB_MetroArea=cities.drop(['NFL','NBA','NHL'],axis=1)\n",
    "MLB_MetroArea=MLB_MetroArea[MLB_MetroArea['MLB']!='']\n",
    "MLB_MetroArea['MLB']=MLB_MetroArea['MLB'].str.findall(r'[A-Z][a-z]*\\s[A-Z][a-z]*|[A-Z][a-z]*')\n",
    "MLB_MetroArea=MLB_MetroArea.explode('MLB')\n",
    "MLB_MetroArea=MLB_MetroArea.rename(columns={'MLB':'team'})\n",
    "mlb_df['W']=pd.to_numeric(mlb_df['W'])\n",
    "mlb_df['L']=pd.to_numeric(mlb_df['L'])\n",
    "mlb_df['win_loss_by_region']=mlb_df['W']/(mlb_df['W']+mlb_df['L'])\n",
    "mlb_df=mlb_df.drop(['W','L','W-L%','GB','year','League'],axis=1)\n",
    "mlbMean=mlb_df.groupby('team').mean()\n",
    "mlbMean=mlbMean.reset_index()\n",
    "MLB_MetroArea['join']=1\n",
    "mlbMean['join']=1\n",
    "DataFrameFull=MLB_MetroArea.merge(mlbMean,on='join').drop('join',axis=1)\n",
    "DataFrameFull['match']=DataFrameFull.apply(lambda x:x.team_y.find(x.team_x),axis=1).ge(0)\n",
    "MLB_df=DataFrameFull[DataFrameFull['match']]\n",
    "MLB_df=pd.DataFrame(MLB_df.groupby(['Metropolitan area','population_by_region'])['win_loss_by_region'].mean())\n",
    "\n",
    "MLB_df=MLB_df.reset_index()\n",
    "MLB_df['population_by_region']=pd.to_numeric(MLB_df['population_by_region'])\n",
    "MLB_df=MLB_df.sort_values('population_by_region')\n",
    "MLB_df=MLB_df.reset_index(drop=True)    \n",
    "    \n",
    "cities['NHL']=cities['NHL'].replace({r'\\[.*\\]':'','—':''},regex=True)\n",
    "cities=cities.rename(columns={'Population (2016 est.)[8]':'population_by_region'})\n",
    "nhl_df=nhl_df[nhl_df['year']==2018]\n",
    "NHL_MetroArea=cities.drop(['NFL','MLB','NBA'],axis=1)\n",
    "NHL_MetroArea=NHL_MetroArea[NHL_MetroArea['NHL']!='']\n",
    "NHL_MetroArea['NHL']=NHL_MetroArea['NHL'].str.split(r'([A-Z][^A-Z]*\\S)([A-Z][^A-Z]*)')\n",
    "NHL_MetroArea=NHL_MetroArea.explode('NHL')\n",
    "NHL_MetroArea=NHL_MetroArea[NHL_MetroArea['NHL']!='']\n",
    "NHL_MetroArea=NHL_MetroArea.rename(columns={'NHL':'team'})\n",
    "nhl_df['team']=nhl_df['team'].str.replace('*','',regex=True)\n",
    "w=nhl_df['W'].str.findall('[0-9]{2}')\n",
    "w=w.str[0]\n",
    "w=pd.to_numeric(w)\n",
    "l=nhl_df['L'].str.findall('[0-9]{2}')\n",
    "l=l.str[0]\n",
    "l=pd.to_numeric(l)\n",
    "nhl_df['win_loss_by_region']=w/(w+l)\n",
    "nhl_team=nhl_df.drop(['GP','W','L','OL','PTS','PTS%','GF','GA','SRS','SOS','RPt%','ROW','year','League'],axis=1)\n",
    "nhl_team=nhl_team.dropna(axis=0)\n",
    "nhl_teamMean=nhl_team.groupby('team').mean()\n",
    "\n",
    "nhl_teamMean=nhl_teamMean.reset_index()\n",
    "\n",
    "NHL_MetroArea['join']=1\n",
    "nhl_teamMean['join']=1\n",
    "DataFrameFull=NHL_MetroArea.merge(nhl_teamMean,on='join').drop('join',axis=1)\n",
    "DataFrameFull['match']=DataFrameFull.apply(lambda x:x.team_y.find(x.team_x),axis=1).ge(0)\n",
    "NHL_df=DataFrameFull[DataFrameFull['match']]\n",
    "NHL_df=pd.DataFrame(NHL_df.groupby(['Metropolitan area','population_by_region'])['win_loss_by_region'].mean())\n",
    "\n",
    "NHL_df=NHL_df.reset_index()\n",
    "NHL_df['population_by_region']=pd.to_numeric(NHL_df['population_by_region'])\n",
    "NHL_df=NHL_df.sort_values('population_by_region')\n",
    "NHL_df=NHL_df.reset_index(drop=True)\n",
    "\n",
    "cities['NBA']=cities['NBA'].replace({r'\\[.*\\]':'','—':''},regex=True)\n",
    "cities=cities.rename(columns={'Population (2016 est.)[8]':'population_by_region'})\n",
    "NBA_MetroArea=cities.drop(['NFL','MLB','NHL'],axis=1)\n",
    "NBA_MetroArea=NBA_MetroArea[NBA_MetroArea['NBA']!='']\n",
    "NBA_MetroArea['NBA']=NBA_MetroArea['NBA'].str.split(r'([A-Z][^A-Z]*\\S)([A-Z][^A-Z]*)')\n",
    "NBA_MetroArea=NBA_MetroArea.explode('NBA')\n",
    "NBA_MetroArea=NBA_MetroArea[NBA_MetroArea['NBA']!='']\n",
    "NBA_MetroArea=NBA_MetroArea.rename(columns={'NBA':'team'})\n",
    "nba_df['team']=nba_df['team'].str.findall(r'\\w*\\s\\w*\\s\\w*|\\w*\\s\\w*')\n",
    "nba_df=nba_df[nba_df['year']==2018]\n",
    "W=nba_df['W'].str.findall('[0-9]{1,2}')\n",
    "W=W.str[0]\n",
    "W=pd.to_numeric(W)\n",
    "L=nba_df['L'].str.findall('[0-9]{1,2}')\n",
    "L=L.str[0]\n",
    "L=pd.to_numeric(L)\n",
    "nba_df['win_loss_by_region']=W/(W+L)\n",
    "nba_df=nba_df.drop(['W','L','W/L%','GB','PS/G','PA/G','SRS','year','League'],axis=1)\n",
    "nba_df=nba_df.dropna(axis=0)\n",
    "nba_df['team']=nba_df['team'].str[0]\n",
    "nba_df['team']=nba_df['team'].str.replace('\\xa0','',regex=True)\n",
    "nbaMean=nba_df.groupby('team').mean()\n",
    "\n",
    "nbaMean=nbaMean.reset_index()\n",
    "\n",
    "NBA_MetroArea['join']=1\n",
    "nbaMean['join']=1\n",
    "DataFrameFull=NBA_MetroArea.merge(nbaMean,on='join').drop('join',axis=1)\n",
    "DataFrameFull['match']=DataFrameFull.apply(lambda x:x.team_y.find(x.team_x),axis=1).ge(0)\n",
    "NBA_df=DataFrameFull[DataFrameFull['match']]\n",
    "NBA_df=pd.DataFrame(NBA_df.groupby(['Metropolitan area','population_by_region'])['win_loss_by_region'].mean())\n",
    "NBA_df=NBA_df.reset_index()\n",
    "NBA_df['population_by_region']=pd.to_numeric(NBA_df['population_by_region'])\n",
    "\n",
    "NBA_df=NBA_df.sort_values('population_by_region')\n",
    "NBA_df=NBA_df.reset_index(drop=True)\n",
    "\n",
    "cities['NFL']=cities['NFL'].replace({r'\\[.*\\]':'','—':''},regex=True)\n",
    "cities=cities.rename(columns={'Population (2016 est.)[8]':'population_by_region'})\n",
    "nfl_df=nfl_df[nfl_df['year']==2018]\n",
    "NFL_MetroArea=cities.drop(['MLB','NBA','NHL'],axis=1)\n",
    "NFL_MetroArea=NFL_MetroArea[NFL_MetroArea['NFL']!='']\n",
    "NFL_MetroArea=NFL_MetroArea[NFL_MetroArea['NFL']!=' ']\n",
    "NFL_MetroArea['NFL']=NFL_MetroArea['NFL'].str.findall(r'\\d*[a-z]*|[A-Z][a-z]*')\n",
    "NFL_MetroArea=NFL_MetroArea.explode('NFL')\n",
    "NFL_MetroArea=NFL_MetroArea[NFL_MetroArea['NFL']!='']\n",
    "NFL_MetroArea=NFL_MetroArea.rename(columns={'NFL':'team'})\n",
    "cols=nfl_df.columns.tolist()\n",
    "cols=cols[-2:-1]+cols[-4:-3]+cols[-14:-13]\n",
    "nfl_df=nfl_df[cols]\n",
    "nfl_df['team']=nfl_df['team'].str.findall(r'[A-Z][^A-Z]+\\s[A-Z][a-z]*\\s[A-Z][a-z]*|[A-Z][^A-Z]+\\s[A-Z][a-z]*')\n",
    "nfl_df['team']=nfl_df['team'].str[0]\n",
    "nfl_df=nfl_df.dropna()\n",
    "W=pd.to_numeric(nfl_df['W'])\n",
    "L=pd.to_numeric(nfl_df['L'])\n",
    "win_loss_by_region=W/(W+L)\n",
    "nfl_df.loc[:,'win_loss_by_region']=win_loss_by_region\n",
    "nflMean=nfl_df.groupby('team').mean()\n",
    "nflMean=nflMean.reset_index()\n",
    "NFL_MetroArea['join']=1\n",
    "nflMean['join']=1\n",
    "DataFrameFull=NFL_MetroArea.merge(nflMean,on='join').drop('join',axis=1)\n",
    "DataFrameFull['match']=DataFrameFull.apply(lambda x:x.team_y.find(x.team_x),axis=1).ge(0)\n",
    "NFL_df=DataFrameFull[DataFrameFull['match']]\n",
    "NFL_df=pd.DataFrame(NFL_df.groupby(['Metropolitan area','population_by_region'])['win_loss_by_region'].mean())\n",
    "NFL_df=NFL_df.reset_index()\n",
    "NFL_df['population_by_region']=pd.to_numeric(NFL_df['population_by_region'])\n",
    "NFL_df=NFL_df.sort_values('population_by_region')\n",
    "\n",
    "NFL_df=NFL_df.reset_index(drop=True)\n",
    "        \n",
    "MLB_df=MLB_df.rename(columns={'win_loss_by_region':'MLB','population_by_region':'population_by_region MLB'})\n",
    "NHL_df=NHL_df.rename(columns={'win_loss_by_region':'NHL','population_by_region':'population_by_region NHL'})\n",
    "NBA_df=NBA_df.rename(columns={'win_loss_by_region':'NBA','population_by_region':'population_by_region NBA'})\n",
    "NFL_df=NFL_df.rename(columns={'win_loss_by_region':'NFL','population_by_region':'population_by_region NFL'})\n",
    "\n",
    "def sports_team_performance(): \n",
    "    MLB=MLB_df \n",
    "    NHL=NHL_df\n",
    "    NBA=NBA_df\n",
    "    NFL=NFL_df\n",
    "    sports=[NFL,NBA,NHL,MLB]\n",
    "   \n",
    "    \n",
    "    # Note: p_values is a full dataframe, so df.loc[\"NFL\",\"NBA\"] should be the same as df.loc[\"NBA\",\"NFL\"] and\n",
    "    # df.loc[\"NFL\",\"NFL\"] should return np.nan\n",
    "    \n",
    "    df_merged=reduce(lambda left,right:pd.merge(left,right,on='Metropolitan area',how='outer'),sports)\n",
    "    df_merged=df_merged.drop(['Metropolitan area','population_by_region NFL','population_by_region NBA','population_by_region NHL','population_by_region MLB'],axis=1)\n",
    "    dct={x:{y:ttest_rel(df_merged[x],df_merged[y],nan_policy = 'omit').pvalue for y in df_merged} for x in df_merged}\n",
    "    p_values=pd.DataFrame(dct)\n",
    "    p_values=p_values.applymap(lambda x:np.nan if x=='--' else x)\n",
    "    p_values=p_values.replace(0.000000,np.nan)\n",
    "    \n",
    "    assert abs(p_values.loc[\"NBA\", \"NHL\"] - 0.02) <= 1e-2, \"The NBA-NHL p-value should be around 0.02\"\n",
    "    assert abs(p_values.loc[\"MLB\", \"NFL\"] - 0.80) <= 1e-2, \"The MLB-NFL p-value should be around 0.80\"\n",
    "    return p_values"
   ]
  },
  {
   "cell_type": "code",
   "execution_count": null,
   "metadata": {
    "deletable": false,
    "editable": false,
    "nbgrader": {
     "checksum": "2a596ab421a45cc01168d10e8fbb8f89",
     "grade": true,
     "grade_id": "cell-fb4b9cb5ff4570a6",
     "locked": true,
     "points": 20,
     "schema_version": 1,
     "solution": false
    }
   },
   "outputs": [],
   "source": []
  },
  {
   "cell_type": "code",
   "execution_count": 10,
   "metadata": {},
   "outputs": [
    {
     "data": {
      "text/html": [
       "<div>\n",
       "<style scoped>\n",
       "    .dataframe tbody tr th:only-of-type {\n",
       "        vertical-align: middle;\n",
       "    }\n",
       "\n",
       "    .dataframe tbody tr th {\n",
       "        vertical-align: top;\n",
       "    }\n",
       "\n",
       "    .dataframe thead th {\n",
       "        text-align: right;\n",
       "    }\n",
       "</style>\n",
       "<table border=\"1\" class=\"dataframe\">\n",
       "  <thead>\n",
       "    <tr style=\"text-align: right;\">\n",
       "      <th></th>\n",
       "      <th>NFL</th>\n",
       "      <th>NBA</th>\n",
       "      <th>NHL</th>\n",
       "      <th>MLB</th>\n",
       "    </tr>\n",
       "  </thead>\n",
       "  <tbody>\n",
       "    <tr>\n",
       "      <th>NFL</th>\n",
       "      <td>NaN</td>\n",
       "      <td>0.941792</td>\n",
       "      <td>0.030883</td>\n",
       "      <td>0.802069</td>\n",
       "    </tr>\n",
       "    <tr>\n",
       "      <th>NBA</th>\n",
       "      <td>0.941792</td>\n",
       "      <td>NaN</td>\n",
       "      <td>0.022297</td>\n",
       "      <td>0.950540</td>\n",
       "    </tr>\n",
       "    <tr>\n",
       "      <th>NHL</th>\n",
       "      <td>0.030883</td>\n",
       "      <td>0.022297</td>\n",
       "      <td>NaN</td>\n",
       "      <td>0.000708</td>\n",
       "    </tr>\n",
       "    <tr>\n",
       "      <th>MLB</th>\n",
       "      <td>0.802069</td>\n",
       "      <td>0.950540</td>\n",
       "      <td>0.000708</td>\n",
       "      <td>NaN</td>\n",
       "    </tr>\n",
       "  </tbody>\n",
       "</table>\n",
       "</div>"
      ],
      "text/plain": [
       "          NFL       NBA       NHL       MLB\n",
       "NFL       NaN  0.941792  0.030883  0.802069\n",
       "NBA  0.941792       NaN  0.022297  0.950540\n",
       "NHL  0.030883  0.022297       NaN  0.000708\n",
       "MLB  0.802069  0.950540  0.000708       NaN"
      ]
     },
     "execution_count": 10,
     "metadata": {},
     "output_type": "execute_result"
    }
   ],
   "source": [
    "sports_team_performance()"
   ]
  }
 ],
 "metadata": {
  "coursera": {
   "schema_names": [
    "mooc_adswpy_1_v2_assignment4"
   ]
  },
  "kernelspec": {
   "display_name": "Python 3",
   "language": "python",
   "name": "python3"
  },
  "language_info": {
   "codemirror_mode": {
    "name": "ipython",
    "version": 3
   },
   "file_extension": ".py",
   "mimetype": "text/x-python",
   "name": "python",
   "nbconvert_exporter": "python",
   "pygments_lexer": "ipython3",
   "version": "3.7.3"
  }
 },
 "nbformat": 4,
 "nbformat_minor": 4
}
